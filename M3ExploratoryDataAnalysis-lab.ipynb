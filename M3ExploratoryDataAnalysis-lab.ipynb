{
 "cells": [
  {
   "cell_type": "markdown",
   "metadata": {},
   "source": [
    "<p style=\"text-align:center\">\n",
    "    <a href=\"https://skills.network/?utm_medium=Exinfluencer&utm_source=Exinfluencer&utm_content=000026UJ&utm_term=10006555&utm_id=NA-SkillsNetwork-Channel-SkillsNetworkCoursesIBMDA0321ENSkillsNetwork928-2023-01-01\">\n",
    "    <img src=\"https://cf-courses-data.s3.us.cloud-object-storage.appdomain.cloud/assets/logos/SN_web_lightmode.png\" width=\"200\" alt=\"Skills Network Logo\"  />\n",
    "    </a>\n",
    "</p>\n"
   ]
  },
  {
   "cell_type": "markdown",
   "metadata": {},
   "source": [
    "# **Exploratory Data Analysis Lab**\n"
   ]
  },
  {
   "cell_type": "markdown",
   "metadata": {},
   "source": [
    "Estimated time needed: **30** minutes\n"
   ]
  },
  {
   "cell_type": "markdown",
   "metadata": {},
   "source": [
    "In this module you get to work with the cleaned dataset from the previous module.\n",
    "\n",
    "In this assignment you will perform the task of exploratory data analysis.\n",
    "You will find out the distribution of data, presence of outliers and also determine the correlation between different columns in the dataset.\n"
   ]
  },
  {
   "cell_type": "markdown",
   "metadata": {},
   "source": [
    "## Objectives\n"
   ]
  },
  {
   "cell_type": "markdown",
   "metadata": {},
   "source": [
    "In this lab you will perform the following:\n"
   ]
  },
  {
   "cell_type": "markdown",
   "metadata": {},
   "source": [
    "-   Identify the distribution of data in the dataset.\n",
    "\n",
    "-   Identify outliers in the dataset.\n",
    "\n",
    "-   Remove outliers from the dataset.\n",
    "\n",
    "-   Identify correlation between features in the dataset.\n"
   ]
  },
  {
   "cell_type": "markdown",
   "metadata": {},
   "source": [
    "* * *\n"
   ]
  },
  {
   "cell_type": "markdown",
   "metadata": {},
   "source": [
    "## Hands on Lab\n"
   ]
  },
  {
   "cell_type": "markdown",
   "metadata": {},
   "source": [
    "Import the pandas module.\n"
   ]
  },
  {
   "cell_type": "code",
   "execution_count": 201,
   "metadata": {
    "tags": []
   },
   "outputs": [],
   "source": [
    "import numpy as np\n",
    "import pandas as pd\n",
    "%matplotlib inline\n",
    "import matplotlib as mpl\n",
    "import matplotlib.pyplot as plt\n",
    "import seaborn as sns\n"
   ]
  },
  {
   "cell_type": "markdown",
   "metadata": {},
   "source": [
    "Load the dataset into a dataframe.\n"
   ]
  },
  {
   "cell_type": "code",
   "execution_count": 203,
   "metadata": {
    "tags": []
   },
   "outputs": [],
   "source": [
    "df = pd.read_csv(\"https://cf-courses-data.s3.us.cloud-object-storage.appdomain.cloud/IBM-DA0321EN-SkillsNetwork/LargeData/m2_survey_data.csv\")"
   ]
  },
  {
   "cell_type": "code",
   "execution_count": 204,
   "metadata": {
    "tags": []
   },
   "outputs": [
    {
     "name": "stdout",
     "output_type": "stream",
     "text": [
      "<class 'pandas.core.frame.DataFrame'>\n",
      "RangeIndex: 11398 entries, 0 to 11397\n",
      "Data columns (total 85 columns):\n",
      " #   Column                  Non-Null Count  Dtype  \n",
      "---  ------                  --------------  -----  \n",
      " 0   Respondent              11398 non-null  int64  \n",
      " 1   MainBranch              11398 non-null  object \n",
      " 2   Hobbyist                11398 non-null  object \n",
      " 3   OpenSourcer             11398 non-null  object \n",
      " 4   OpenSource              11317 non-null  object \n",
      " 5   Employment              11398 non-null  object \n",
      " 6   Country                 11398 non-null  object \n",
      " 7   Student                 11347 non-null  object \n",
      " 8   EdLevel                 11286 non-null  object \n",
      " 9   UndergradMajor          10661 non-null  object \n",
      " 10  EduOther                11234 non-null  object \n",
      " 11  OrgSize                 11302 non-null  object \n",
      " 12  DevType                 11333 non-null  object \n",
      " 13  YearsCode               11389 non-null  object \n",
      " 14  Age1stCode              11385 non-null  object \n",
      " 15  YearsCodePro            11382 non-null  object \n",
      " 16  CareerSat               11398 non-null  object \n",
      " 17  JobSat                  11397 non-null  object \n",
      " 18  MgrIdiot                10905 non-null  object \n",
      " 19  MgrMoney                10901 non-null  object \n",
      " 20  MgrWant                 10905 non-null  object \n",
      " 21  JobSeek                 11398 non-null  object \n",
      " 22  LastHireDate            11398 non-null  object \n",
      " 23  LastInt                 10985 non-null  object \n",
      " 24  FizzBuzz                11361 non-null  object \n",
      " 25  JobFactors              11395 non-null  object \n",
      " 26  ResumeUpdate            11359 non-null  object \n",
      " 27  CurrencySymbol          11398 non-null  object \n",
      " 28  CurrencyDesc            11398 non-null  object \n",
      " 29  CompTotal               10589 non-null  float64\n",
      " 30  CompFreq                11192 non-null  object \n",
      " 31  ConvertedComp           10582 non-null  float64\n",
      " 32  WorkWeekHrs             11276 non-null  float64\n",
      " 33  WorkPlan                11277 non-null  object \n",
      " 34  WorkChallenge           11234 non-null  object \n",
      " 35  WorkRemote              11390 non-null  object \n",
      " 36  WorkLoc                 11366 non-null  object \n",
      " 37  ImpSyn                  11393 non-null  object \n",
      " 38  CodeRev                 11397 non-null  object \n",
      " 39  CodeRevHrs              8972 non-null   float64\n",
      " 40  UnitTests               11369 non-null  object \n",
      " 41  PurchaseHow             11202 non-null  object \n",
      " 42  PurchaseWhat            11360 non-null  object \n",
      " 43  LanguageWorkedWith      11387 non-null  object \n",
      " 44  LanguageDesireNextYear  11264 non-null  object \n",
      " 45  DatabaseWorkedWith      10945 non-null  object \n",
      " 46  DatabaseDesireNextYear  10356 non-null  object \n",
      " 47  PlatformWorkedWith      10987 non-null  object \n",
      " 48  PlatformDesireNextYear  10854 non-null  object \n",
      " 49  WebFrameWorkedWith      10005 non-null  object \n",
      " 50  WebFrameDesireNextYear  9781 non-null   object \n",
      " 51  MiscTechWorkedWith      9216 non-null   object \n",
      " 52  MiscTechDesireNextYear  9943 non-null   object \n",
      " 53  DevEnviron              11369 non-null  object \n",
      " 54  OpSys                   11364 non-null  object \n",
      " 55  Containers              11316 non-null  object \n",
      " 56  BlockchainOrg           9076 non-null   object \n",
      " 57  BlockchainIs            8788 non-null   object \n",
      " 58  BetterLife              11300 non-null  object \n",
      " 59  ITperson                11363 non-null  object \n",
      " 60  OffOn                   11360 non-null  object \n",
      " 61  SocialMedia             11105 non-null  object \n",
      " 62  Extraversion            11378 non-null  object \n",
      " 63  ScreenName              10891 non-null  object \n",
      " 64  SOVisit1st              11073 non-null  object \n",
      " 65  SOVisitFreq             11393 non-null  object \n",
      " 66  SOVisitTo               11397 non-null  object \n",
      " 67  SOFindAnswer            11395 non-null  object \n",
      " 68  SOTimeSaved             11348 non-null  object \n",
      " 69  SOHowMuchTime           9481 non-null   object \n",
      " 70  SOAccount               11397 non-null  object \n",
      " 71  SOPartFreq              10270 non-null  object \n",
      " 72  SOJobs                  11392 non-null  object \n",
      " 73  EntTeams                11393 non-null  object \n",
      " 74  SOComm                  11398 non-null  object \n",
      " 75  WelcomeChange           11313 non-null  object \n",
      " 76  SONewContent            9433 non-null   object \n",
      " 77  Age                     11111 non-null  float64\n",
      " 78  Gender                  11325 non-null  object \n",
      " 79  Trans                   11275 non-null  object \n",
      " 80  Sexuality               10856 non-null  object \n",
      " 81  Ethnicity               10723 non-null  object \n",
      " 82  Dependents              11258 non-null  object \n",
      " 83  SurveyLength            11379 non-null  object \n",
      " 84  SurveyEase              11384 non-null  object \n",
      "dtypes: float64(5), int64(1), object(79)\n",
      "memory usage: 7.4+ MB\n"
     ]
    }
   ],
   "source": [
    "df.info()"
   ]
  },
  {
   "cell_type": "markdown",
   "metadata": {},
   "source": [
    "## Distribution\n"
   ]
  },
  {
   "cell_type": "markdown",
   "metadata": {},
   "source": [
    "### Determine how the data is distributed\n"
   ]
  },
  {
   "cell_type": "markdown",
   "metadata": {},
   "source": [
    "The column `ConvertedComp` contains Salary converted to annual USD salaries using the exchange rate on 2019-02-01.\n",
    "\n",
    "This assumes 12 working months and 50 working weeks.\n"
   ]
  },
  {
   "cell_type": "markdown",
   "metadata": {},
   "source": [
    "Plot the distribution curve for the column `ConvertedComp`.\n"
   ]
  },
  {
   "cell_type": "code",
   "execution_count": 207,
   "metadata": {
    "tags": []
   },
   "outputs": [
    {
     "data": {
      "image/png": "[encoded data removed]",
      "text/plain": [
       "<Figure size 1000x600 with 1 Axes>"
      ]
     },
     "metadata": {},
     "output_type": "display_data"
    }
   ],
   "source": [
    "# your code goes here\n",
    "#df['ConvertedComp'].plot(kind='hist')\n",
    "#plt.figure(figsize=(12,6))\n",
    "#plt.hist(df['ConvertedComp'], bins=30, alpha=0.6, color='g', density=True)\n",
    "#plt.show()\n",
    "plt.figure(figsize=(10, 6))\n",
    "sns.histplot(x=df['ConvertedComp'])\n",
    "plt.title('Kernel Density Plot of Converted Compensation')\n",
    "plt.xlabel('Annual Compensation (USD)')\n",
    "plt.ylabel('Density')\n",
    "plt.show()"
   ]
  },
  {
   "cell_type": "markdown",
   "metadata": {},
   "source": [
    "Plot the histogram for the column `ConvertedComp`.\n"
   ]
  },
  {
   "cell_type": "code",
   "execution_count": null,
   "metadata": {},
   "outputs": [],
   "source": [
    "# your code goes here\n"
   ]
  },
  {
   "cell_type": "markdown",
   "metadata": {},
   "source": [
    "What is the median of the column `ConvertedComp`?\n"
   ]
  },
  {
   "cell_type": "code",
   "execution_count": 209,
   "metadata": {
    "tags": []
   },
   "outputs": [
    {
     "data": {
      "text/plain": [
       "57745.0"
      ]
     },
     "execution_count": 209,
     "metadata": {},
     "output_type": "execute_result"
    }
   ],
   "source": [
    "# your code goes here\n",
    "df['ConvertedComp'].median()"
   ]
  },
  {
   "cell_type": "markdown",
   "metadata": {},
   "source": [
    "How many responders identified themselves only as a **Man**?\n"
   ]
  },
  {
   "cell_type": "code",
   "execution_count": 211,
   "metadata": {
    "tags": []
   },
   "outputs": [
    {
     "data": {
      "text/plain": [
       "10480"
      ]
     },
     "execution_count": 211,
     "metadata": {},
     "output_type": "execute_result"
    }
   ],
   "source": [
    "# your code goes here\n",
    "df[df['Gender']=='Man'].shape[0]"
   ]
  },
  {
   "cell_type": "markdown",
   "metadata": {},
   "source": [
    "Find out the  median ConvertedComp of responders identified themselves only as a **Woman**?\n"
   ]
  },
  {
   "cell_type": "code",
   "execution_count": 213,
   "metadata": {
    "tags": []
   },
   "outputs": [
    {
     "data": {
      "text/plain": [
       "57708.0"
      ]
     },
     "execution_count": 213,
     "metadata": {},
     "output_type": "execute_result"
    }
   ],
   "source": [
    "# your code goes here\n",
    "df1 = df[df['Gender']=='Woman']\n",
    "df1['ConvertedComp'].median()"
   ]
  },
  {
   "cell_type": "markdown",
   "metadata": {},
   "source": [
    "Give the five number summary for the column `Age`?\n"
   ]
  },
  {
   "cell_type": "code",
   "execution_count": 215,
   "metadata": {
    "tags": []
   },
   "outputs": [
    {
     "data": {
      "text/plain": [
       "count    11111.000000\n",
       "mean        30.778895\n",
       "std          7.393686\n",
       "min         16.000000\n",
       "25%         25.000000\n",
       "50%         29.000000\n",
       "75%         35.000000\n",
       "max         99.000000\n",
       "Name: Age, dtype: float64"
      ]
     },
     "execution_count": 215,
     "metadata": {},
     "output_type": "execute_result"
    }
   ],
   "source": [
    "# your code goes here\n",
    "df['Age'].describe()"
   ]
  },
  {
   "cell_type": "markdown",
   "metadata": {},
   "source": [
    "Plot a histogram of the column `Age`.\n"
   ]
  },
  {
   "cell_type": "code",
   "execution_count": 217,
   "metadata": {
    "tags": []
   },
   "outputs": [
    {
     "data": {
      "text/plain": [
       "(array([   0.,  200.,  400.,  600.,  800., 1000., 1200., 1400., 1600.]),\n",
       " [Text(0, 0.0, '0'),\n",
       "  Text(0, 200.0, '200'),\n",
       "  Text(0, 400.0, '400'),\n",
       "  Text(0, 600.0, '600'),\n",
       "  Text(0, 800.0, '800'),\n",
       "  Text(0, 1000.0, '1000'),\n",
       "  Text(0, 1200.0, '1200'),\n",
       "  Text(0, 1400.0, '1400'),\n",
       "  Text(0, 1600.0, '1600')])"
      ]
     },
     "execution_count": 217,
     "metadata": {},
     "output_type": "execute_result"
    },
    {
     "data": {
      "image/png": "[encoded data removed]",
      "text/plain": [
       "<Figure size 1500x600 with 1 Axes>"
      ]
     },
     "metadata": {},
     "output_type": "display_data"
    }
   ],
   "source": [
    "# your code goes here\n",
    "plt.figure(figsize=(15, 6))\n",
    "sns.histplot(df['Age'], bins=40, kde=False, color='blue', edgecolor='black')\n",
    "\n",
    "# Adding titles and labels\n",
    "plt.title('Distribution of Age', fontsize=16)\n",
    "plt.xlabel('Age (years)', fontsize=13)\n",
    "plt.ylabel('Frequency', fontsize=14)\n",
    "\n",
    "# Improving the aesthetics\n",
    "plt.grid(True, linestyle='--', alpha=0.7)\n",
    "plt.xticks(ticks=range(16, 70, 8), fontsize=12)  # Set custom ticks and font size\n",
    "plt.yticks(fontsize=12)"
   ]
  },
  {
   "cell_type": "code",
   "execution_count": 223,
   "metadata": {
    "tags": []
   },
   "outputs": [
    {
     "data": {
      "text/plain": [
       "<Axes: >"
      ]
     },
     "execution_count": 223,
     "metadata": {},
     "output_type": "execute_result"
    },
    {
     "data": {
      "image/png": "[encoded data removed]",
      "text/plain": [
       "<Figure size 640x480 with 1 Axes>"
      ]
     },
     "metadata": {},
     "output_type": "display_data"
    }
   ],
   "source": [
    "df['Age'].plot(kind='box')"
   ]
  },
  {
   "cell_type": "code",
   "execution_count": 221,
   "metadata": {
    "tags": []
   },
   "outputs": [
    {
     "data": {
      "text/plain": [
       "29.0"
      ]
     },
     "execution_count": 221,
     "metadata": {},
     "output_type": "execute_result"
    }
   ],
   "source": [
    "df['Age'].median()"
   ]
  },
  {
   "cell_type": "markdown",
   "metadata": {},
   "source": [
    "## Outliers\n"
   ]
  },
  {
   "cell_type": "markdown",
   "metadata": {},
   "source": [
    "### Finding outliers\n"
   ]
  },
  {
   "cell_type": "markdown",
   "metadata": {},
   "source": [
    "Find out if outliers exist in the column `ConvertedComp` using a box plot?\n"
   ]
  },
  {
   "cell_type": "code",
   "execution_count": 225,
   "metadata": {
    "tags": []
   },
   "outputs": [
    {
     "data": {
      "text/plain": [
       "<Axes: ylabel='ConvertedComp'>"
      ]
     },
     "execution_count": 225,
     "metadata": {},
     "output_type": "execute_result"
    },
    {
     "data": {
      "image/png": "[encoded data removed]",
      "text/plain": [
       "<Figure size 640x480 with 1 Axes>"
      ]
     },
     "metadata": {},
     "output_type": "display_data"
    }
   ],
   "source": [
    "# your code goes here\n",
    "sns.boxplot(y=df['ConvertedComp'])"
   ]
  },
  {
   "cell_type": "markdown",
   "metadata": {},
   "source": [
    "Find out the Inter Quartile Range for the column `ConvertedComp`.\n"
   ]
  },
  {
   "cell_type": "code",
   "execution_count": 227,
   "metadata": {
    "tags": []
   },
   "outputs": [
    {
     "data": {
      "text/plain": [
       "73132.0"
      ]
     },
     "execution_count": 227,
     "metadata": {},
     "output_type": "execute_result"
    }
   ],
   "source": [
    "# your code goes here\n",
    "Q1 = df['ConvertedComp'].quantile(0.25)\n",
    "Q3 = df['ConvertedComp'].quantile(0.75)\n",
    "IQR = Q3 - Q1\n",
    "IQR"
   ]
  },
  {
   "cell_type": "markdown",
   "metadata": {},
   "source": [
    "Find out the upper and lower bounds.\n"
   ]
  },
  {
   "cell_type": "code",
   "execution_count": 229,
   "metadata": {
    "tags": []
   },
   "outputs": [
    {
     "name": "stdout",
     "output_type": "stream",
     "text": [
      "-82830.0\n",
      "209698.0\n"
     ]
    }
   ],
   "source": [
    "# your code goes here\n",
    "lower_bound = Q1 - 1.5 * IQR\n",
    "upper_bound = Q3 + 1.5 * IQR\n",
    "print(lower_bound)\n",
    "print(upper_bound)\n"
   ]
  },
  {
   "cell_type": "markdown",
   "metadata": {},
   "source": [
    "Identify how many outliers are there in the `ConvertedComp` column.\n"
   ]
  },
  {
   "cell_type": "code",
   "execution_count": 231,
   "metadata": {
    "tags": []
   },
   "outputs": [
    {
     "data": {
      "text/plain": [
       "879"
      ]
     },
     "execution_count": 231,
     "metadata": {},
     "output_type": "execute_result"
    }
   ],
   "source": [
    "# your code goes here\n",
    "outliers = df[(df['ConvertedComp'] < lower_bound) | (df['ConvertedComp'] > upper_bound)]\n",
    "outliers.shape[0]"
   ]
  },
  {
   "cell_type": "markdown",
   "metadata": {},
   "source": [
    "Create a new dataframe by removing the outliers from the `ConvertedComp` column.\n"
   ]
  },
  {
   "cell_type": "code",
   "execution_count": 233,
   "metadata": {
    "tags": []
   },
   "outputs": [
    {
     "name": "stdout",
     "output_type": "stream",
     "text": [
      "(11398, 85)\n",
      "(9703, 85)\n"
     ]
    }
   ],
   "source": [
    "# your code goes here\n",
    "print(df.shape)\n",
    "df = df[(df['ConvertedComp'] > lower_bound) & (df['ConvertedComp'] < upper_bound)]\n",
    "print(df.shape)"
   ]
  },
  {
   "cell_type": "code",
   "execution_count": 235,
   "metadata": {
    "tags": []
   },
   "outputs": [
    {
     "data": {
      "text/plain": [
       "59883.20838915799"
      ]
     },
     "execution_count": 235,
     "metadata": {},
     "output_type": "execute_result"
    }
   ],
   "source": [
    "df['ConvertedComp'].mean()"
   ]
  },
  {
   "cell_type": "code",
   "execution_count": 237,
   "metadata": {
    "tags": []
   },
   "outputs": [
    {
     "data": {
      "text/plain": [
       "52704.0"
      ]
     },
     "execution_count": 237,
     "metadata": {},
     "output_type": "execute_result"
    }
   ],
   "source": [
    "df['ConvertedComp'].median()"
   ]
  },
  {
   "cell_type": "markdown",
   "metadata": {},
   "source": [
    "## Correlation\n"
   ]
  },
  {
   "cell_type": "markdown",
   "metadata": {},
   "source": [
    "### Finding correlation\n"
   ]
  },
  {
   "cell_type": "markdown",
   "metadata": {},
   "source": [
    "Find the correlation between `Age` and all other numerical columns.\n"
   ]
  },
  {
   "cell_type": "code",
   "execution_count": 239,
   "metadata": {
    "tags": []
   },
   "outputs": [
    {
     "name": "stdout",
     "output_type": "stream",
     "text": [
      "['Respondent', 'CompTotal', 'ConvertedComp', 'WorkWeekHrs', 'CodeRevHrs', 'Age']\n"
     ]
    }
   ],
   "source": [
    "# your code goes here\n",
    "numerical_attributes = df.select_dtypes(include=['int64', 'float64'])\n",
    "print(numerical_attributes.columns.tolist())"
   ]
  },
  {
   "cell_type": "code",
   "execution_count": 241,
   "metadata": {
    "tags": []
   },
   "outputs": [
    {
     "data": {
      "text/html": [
       "<div>\n",
       "<style scoped>\n",
       "    .dataframe tbody tr th:only-of-type {\n",
       "        vertical-align: middle;\n",
       "    }\n",
       "\n",
       "    .dataframe tbody tr th {\n",
       "        vertical-align: top;\n",
       "    }\n",
       "\n",
       "    .dataframe thead th {\n",
       "        text-align: right;\n",
       "    }\n",
       "</style>\n",
       "<table border=\"1\" class=\"dataframe\">\n",
       "  <thead>\n",
       "    <tr style=\"text-align: right;\">\n",
       "      <th></th>\n",
       "      <th>Age</th>\n",
       "      <th>Respondent</th>\n",
       "      <th>CompTotal</th>\n",
       "      <th>ConvertedComp</th>\n",
       "      <th>WorkWeekHrs</th>\n",
       "      <th>CodeRevHrs</th>\n",
       "    </tr>\n",
       "  </thead>\n",
       "  <tbody>\n",
       "    <tr>\n",
       "      <th>Age</th>\n",
       "      <td>1.000000</td>\n",
       "      <td>0.002180</td>\n",
       "      <td>0.006337</td>\n",
       "      <td>0.401821</td>\n",
       "      <td>0.032032</td>\n",
       "      <td>-0.012878</td>\n",
       "    </tr>\n",
       "    <tr>\n",
       "      <th>Respondent</th>\n",
       "      <td>0.002180</td>\n",
       "      <td>1.000000</td>\n",
       "      <td>-0.019354</td>\n",
       "      <td>0.010878</td>\n",
       "      <td>-0.016221</td>\n",
       "      <td>0.005293</td>\n",
       "    </tr>\n",
       "    <tr>\n",
       "      <th>CompTotal</th>\n",
       "      <td>0.006337</td>\n",
       "      <td>-0.019354</td>\n",
       "      <td>1.000000</td>\n",
       "      <td>-0.063561</td>\n",
       "      <td>0.004910</td>\n",
       "      <td>0.017007</td>\n",
       "    </tr>\n",
       "    <tr>\n",
       "      <th>ConvertedComp</th>\n",
       "      <td>0.401821</td>\n",
       "      <td>0.010878</td>\n",
       "      <td>-0.063561</td>\n",
       "      <td>1.000000</td>\n",
       "      <td>0.034351</td>\n",
       "      <td>-0.088934</td>\n",
       "    </tr>\n",
       "    <tr>\n",
       "      <th>WorkWeekHrs</th>\n",
       "      <td>0.032032</td>\n",
       "      <td>-0.016221</td>\n",
       "      <td>0.004910</td>\n",
       "      <td>0.034351</td>\n",
       "      <td>1.000000</td>\n",
       "      <td>0.038935</td>\n",
       "    </tr>\n",
       "    <tr>\n",
       "      <th>CodeRevHrs</th>\n",
       "      <td>-0.012878</td>\n",
       "      <td>0.005293</td>\n",
       "      <td>0.017007</td>\n",
       "      <td>-0.088934</td>\n",
       "      <td>0.038935</td>\n",
       "      <td>1.000000</td>\n",
       "    </tr>\n",
       "  </tbody>\n",
       "</table>\n",
       "</div>"
      ],
      "text/plain": [
       "                    Age  Respondent  CompTotal  ConvertedComp  WorkWeekHrs  \\\n",
       "Age            1.000000    0.002180   0.006337       0.401821     0.032032   \n",
       "Respondent     0.002180    1.000000  -0.019354       0.010878    -0.016221   \n",
       "CompTotal      0.006337   -0.019354   1.000000      -0.063561     0.004910   \n",
       "ConvertedComp  0.401821    0.010878  -0.063561       1.000000     0.034351   \n",
       "WorkWeekHrs    0.032032   -0.016221   0.004910       0.034351     1.000000   \n",
       "CodeRevHrs    -0.012878    0.005293   0.017007      -0.088934     0.038935   \n",
       "\n",
       "               CodeRevHrs  \n",
       "Age             -0.012878  \n",
       "Respondent       0.005293  \n",
       "CompTotal        0.017007  \n",
       "ConvertedComp   -0.088934  \n",
       "WorkWeekHrs      0.038935  \n",
       "CodeRevHrs       1.000000  "
      ]
     },
     "execution_count": 241,
     "metadata": {},
     "output_type": "execute_result"
    }
   ],
   "source": [
    "df[['Age','Respondent', 'CompTotal', 'ConvertedComp', 'WorkWeekHrs','CodeRevHrs']].corr()\n"
   ]
  },
  {
   "cell_type": "markdown",
   "metadata": {
    "jp-MarkdownHeadingCollapsed": true,
    "tags": []
   },
   "source": [
    "## Authors\n"
   ]
  },
  {
   "cell_type": "markdown",
   "metadata": {},
   "source": [
    "Ramesh Sannareddy\n"
   ]
  },
  {
   "cell_type": "markdown",
   "metadata": {},
   "source": [
    "### Other Contributors\n"
   ]
  },
  {
   "cell_type": "markdown",
   "metadata": {},
   "source": [
    "Rav Ahuja\n"
   ]
  },
  {
   "cell_type": "markdown",
   "metadata": {},
   "source": [
    "## Change Log\n"
   ]
  },
  {
   "cell_type": "markdown",
   "metadata": {},
   "source": [
    "| Date (YYYY-MM-DD) | Version | Changed By        | Change Description                 |\n",
    "| ----------------- | ------- | ----------------- | ---------------------------------- |\n",
    "| 2020-10-17        | 0.1     | Ramesh Sannareddy | Created initial version of the lab |\n"
   ]
  },
  {
   "cell_type": "markdown",
   "metadata": {},
   "source": [
    " Copyright © 2020 IBM Corporation. This notebook and its source code are released under the terms of the [MIT License](https://cognitiveclass.ai/mit-license?utm_medium=Exinfluencer&utm_source=Exinfluencer&utm_content=000026UJ&utm_term=10006555&utm_id=NA-SkillsNetwork-Channel-SkillsNetworkCoursesIBMDA0321ENSkillsNetwork928-2023-01-01&cm_mmc=Email_Newsletter-_-Developer_Ed%2BTech-_-WW_WW-_-SkillsNetwork-Courses-IBM-DA0321EN-SkillsNetwork-21426264&cm_mmca1=000026UJ&cm_mmca2=10006555&cm_mmca3=M12345678&cvosrc=email.Newsletter.M12345678&cvo_campaign=000026UJ).\n"
   ]
  }
 ],
 "metadata": {
  "kernelspec": {
   "display_name": "Python 3 (ipykernel)",
   "language": "python",
   "name": "python3"
  },
  "language_info": {
   "codemirror_mode": {
    "name": "ipython",
    "version": 3
   },
   "file_extension": ".py",
   "mimetype": "text/x-python",
   "name": "python",
   "nbconvert_exporter": "python",
   "pygments_lexer": "ipython3",
   "version": "3.11.5"
  }
 },
 "nbformat": 4,
 "nbformat_minor": 4
}
